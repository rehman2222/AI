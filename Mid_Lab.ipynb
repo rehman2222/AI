{
  "nbformat": 4,
  "nbformat_minor": 0,
  "metadata": {
    "colab": {
      "provenance": [],
      "authorship_tag": "ABX9TyPavGvqzdPXh1gk3Mt2wofT",
      "include_colab_link": true
    },
    "kernelspec": {
      "name": "python3",
      "display_name": "Python 3"
    },
    "language_info": {
      "name": "python"
    }
  },
  "cells": [
    {
      "cell_type": "markdown",
      "metadata": {
        "id": "view-in-github",
        "colab_type": "text"
      },
      "source": [
        "<a href=\"https://colab.research.google.com/github/rehman2222/AI/blob/main/Mid_Lab.ipynb\" target=\"_parent\"><img src=\"https://colab.research.google.com/assets/colab-badge.svg\" alt=\"Open In Colab\"/></a>"
      ]
    },
    {
      "cell_type": "markdown",
      "source": [
        "# NAME: ABDUR REHMAN                     REG_NO: SP23-BSE-123 **bold text**\n",
        "\n",
        "\n",
        "\n"
      ],
      "metadata": {
        "id": "wu7xABBbdwZo"
      }
    },
    {
      "cell_type": "markdown",
      "source": [
        "1.BFS Implementation"
      ],
      "metadata": {
        "id": "6e7dPF0ve6fo"
      }
    },
    {
      "cell_type": "code",
      "source": [
        "\n",
        "\n",
        "from collections import deque\n",
        "\n",
        "def is_valid_state(m_left, c_left):\n",
        "    m_right, c_right = 3 - m_left, 3 - c_left\n",
        "    if (m_left < 0 or c_left < 0 or m_right < 0 or c_right < 0):\n",
        "        return False\n",
        "    if (m_left > 0 and m_left < c_left):  # cannibals outnumber missionaries\n",
        "        return False\n",
        "    if (m_right > 0 and m_right < c_right):\n",
        "        return False\n",
        "    return True\n",
        "\n",
        "def get_successors(state):\n",
        "    m_left, c_left, boat = state\n",
        "    successors = []\n",
        "    moves = [(1,0), (2,0), (0,1), (0,2), (1,1)]\n",
        "    for m, c in moves:\n",
        "        if boat == 'left':\n",
        "            new_state = (m_left - m, c_left - c, 'right')\n",
        "        else:\n",
        "            new_state = (m_left + m, c_left + c, 'left')\n",
        "        if is_valid_state(new_state[0], new_state[1]):\n",
        "            successors.append(new_state)\n",
        "    return successors\n",
        "\n",
        "def bfs():\n",
        "    start = (3,3,'left')\n",
        "    goal = (0,0,'right')\n",
        "    queue = deque([(start,[start])])\n",
        "    visited = set()\n",
        "\n",
        "    while queue:\n",
        "        state, path = queue.popleft()\n",
        "        if state in visited:\n",
        "            continue\n",
        "        visited.add(state)\n",
        "        if state == goal:\n",
        "            print(\" BFS Solution Found:\\n\")\n",
        "            for i,s in enumerate(path): print(f\"Step {i}: {s}\")\n",
        "            return path\n",
        "        for next_state in get_successors(state):\n",
        "            queue.append((next_state, path+[next_state]))\n",
        "\n",
        "    print(\" No BFS solution found.\")\n",
        "\n",
        "bfs()\n"
      ],
      "metadata": {
        "colab": {
          "base_uri": "https://localhost:8080/"
        },
        "id": "wMaypfzVe-g-",
        "outputId": "fe6afd7c-a024-4572-83f6-7cbc5b0e885c"
      },
      "execution_count": 2,
      "outputs": [
        {
          "output_type": "stream",
          "name": "stdout",
          "text": [
            "✅ BFS Solution Found:\n",
            "\n",
            "Step 0: (3, 3, 'left')\n",
            "Step 1: (3, 1, 'right')\n",
            "Step 2: (3, 2, 'left')\n",
            "Step 3: (3, 0, 'right')\n",
            "Step 4: (3, 1, 'left')\n",
            "Step 5: (1, 1, 'right')\n",
            "Step 6: (2, 2, 'left')\n",
            "Step 7: (0, 2, 'right')\n",
            "Step 8: (0, 3, 'left')\n",
            "Step 9: (0, 1, 'right')\n",
            "Step 10: (1, 1, 'left')\n",
            "Step 11: (0, 0, 'right')\n"
          ]
        },
        {
          "output_type": "execute_result",
          "data": {
            "text/plain": [
              "[(3, 3, 'left'),\n",
              " (3, 1, 'right'),\n",
              " (3, 2, 'left'),\n",
              " (3, 0, 'right'),\n",
              " (3, 1, 'left'),\n",
              " (1, 1, 'right'),\n",
              " (2, 2, 'left'),\n",
              " (0, 2, 'right'),\n",
              " (0, 3, 'left'),\n",
              " (0, 1, 'right'),\n",
              " (1, 1, 'left'),\n",
              " (0, 0, 'right')]"
            ]
          },
          "metadata": {},
          "execution_count": 2
        }
      ]
    },
    {
      "cell_type": "markdown",
      "source": [
        "2.DFS Implementation"
      ],
      "metadata": {
        "id": "52JVBW7vfDKy"
      }
    },
    {
      "cell_type": "code",
      "source": [
        "\n",
        "\n",
        "def is_valid_state(m_left, c_left):\n",
        "    m_right, c_right = 3 - m_left, 3 - c_left\n",
        "    if (m_left < 0 or c_left < 0 or m_right < 0 or c_right < 0):\n",
        "        return False\n",
        "    if (m_left > 0 and m_left < c_left): return False\n",
        "    if (m_right > 0 and m_right < c_right): return False\n",
        "    return True\n",
        "\n",
        "def get_successors(state):\n",
        "    m_left, c_left, boat = state\n",
        "    successors = []\n",
        "    moves = [(1,0),(2,0),(0,1),(0,2),(1,1)]\n",
        "    for m,c in moves:\n",
        "        if boat == 'left':\n",
        "            new_state = (m_left - m, c_left - c, 'right')\n",
        "        else:\n",
        "            new_state = (m_left + m, c_left + c, 'left')\n",
        "        if is_valid_state(new_state[0], new_state[1]):\n",
        "            successors.append(new_state)\n",
        "    return successors\n",
        "\n",
        "def dfs():\n",
        "    start=(3,3,'left')\n",
        "    goal=(0,0,'right')\n",
        "    stack=[(start,[start])]\n",
        "    visited=set()\n",
        "\n",
        "    while stack:\n",
        "        state,path=stack.pop()\n",
        "        if state in visited:\n",
        "            continue\n",
        "        visited.add(state)\n",
        "        if state==goal:\n",
        "            print(\"DFS Solution Found:\\n\")\n",
        "            for i,s in enumerate(path): print(f\"Step {i}: {s}\")\n",
        "            return path\n",
        "        for next_state in get_successors(state):\n",
        "            stack.append((next_state,path+[next_state]))\n",
        "    print(\"No DFS solution found.\")\n",
        "\n",
        "dfs()\n"
      ],
      "metadata": {
        "colab": {
          "base_uri": "https://localhost:8080/"
        },
        "id": "_0pXpi3KfFvu",
        "outputId": "5aca771f-1ddf-4350-ca24-42cfd967ce20"
      },
      "execution_count": 3,
      "outputs": [
        {
          "output_type": "stream",
          "name": "stdout",
          "text": [
            "✅ DFS Solution Found:\n",
            "\n",
            "Step 0: (3, 3, 'left')\n",
            "Step 1: (2, 2, 'right')\n",
            "Step 2: (3, 2, 'left')\n",
            "Step 3: (3, 0, 'right')\n",
            "Step 4: (3, 1, 'left')\n",
            "Step 5: (1, 1, 'right')\n",
            "Step 6: (2, 2, 'left')\n",
            "Step 7: (0, 2, 'right')\n",
            "Step 8: (0, 3, 'left')\n",
            "Step 9: (0, 1, 'right')\n",
            "Step 10: (0, 2, 'left')\n",
            "Step 11: (0, 0, 'right')\n"
          ]
        },
        {
          "output_type": "execute_result",
          "data": {
            "text/plain": [
              "[(3, 3, 'left'),\n",
              " (2, 2, 'right'),\n",
              " (3, 2, 'left'),\n",
              " (3, 0, 'right'),\n",
              " (3, 1, 'left'),\n",
              " (1, 1, 'right'),\n",
              " (2, 2, 'left'),\n",
              " (0, 2, 'right'),\n",
              " (0, 3, 'left'),\n",
              " (0, 1, 'right'),\n",
              " (0, 2, 'left'),\n",
              " (0, 0, 'right')]"
            ]
          },
          "metadata": {},
          "execution_count": 3
        }
      ]
    },
    {
      "cell_type": "markdown",
      "source": [
        "3.A* seacrch Implmentation"
      ],
      "metadata": {
        "id": "Vp6Y-1f_fJFj"
      }
    },
    {
      "cell_type": "code",
      "source": [
        "\n",
        "\n",
        "import heapq\n",
        "\n",
        "def is_valid_state(m_left, c_left):\n",
        "    m_right, c_right = 3 - m_left, 3 - c_left\n",
        "    if (m_left < 0 or c_left < 0 or m_right < 0 or c_right < 0):\n",
        "        return False\n",
        "    if (m_left > 0 and m_left < c_left): return False\n",
        "    if (m_right > 0 and m_right < c_right): return False\n",
        "    return True\n",
        "\n",
        "def get_successors(state):\n",
        "    m_left, c_left, boat = state\n",
        "    successors=[]\n",
        "    moves=[(1,0),(2,0),(0,1),(0,2),(1,1)]\n",
        "    for m,c in moves:\n",
        "        if boat=='left':\n",
        "            new_state=(m_left-m,c_left-c,'right')\n",
        "        else:\n",
        "            new_state=(m_left+m,c_left+c,'left')\n",
        "        if is_valid_state(new_state[0],new_state[1]):\n",
        "            successors.append(new_state)\n",
        "    return successors\n",
        "\n",
        "def heuristic(state):\n",
        "    # number of people still on the left side\n",
        "    m_left, c_left, _ = state\n",
        "    return m_left + c_left\n",
        "\n",
        "def a_star():\n",
        "    start=(3,3,'left')\n",
        "    goal=(0,0,'right')\n",
        "    pq=[]\n",
        "    heapq.heappush(pq,(0,start,[start]))\n",
        "    visited=set()\n",
        "\n",
        "    while pq:\n",
        "        cost,state,path=heapq.heappop(pq)\n",
        "        if state in visited:\n",
        "            continue\n",
        "        visited.add(state)\n",
        "        if state==goal:\n",
        "            print(\"A* Solution Found:\\n\")\n",
        "            for i,s in enumerate(path): print(f\"Step {i}: {s}\")\n",
        "            return path\n",
        "        for next_state in get_successors(state):\n",
        "            g=len(path)\n",
        "            h=heuristic(next_state)\n",
        "            f=g+h\n",
        "            heapq.heappush(pq,(f,next_state,path+[next_state]))\n",
        "    print(\"No A* solution found.\")\n",
        "\n",
        "a_star()\n"
      ],
      "metadata": {
        "colab": {
          "base_uri": "https://localhost:8080/"
        },
        "id": "U3reO-GRfNld",
        "outputId": "59e75a9d-b205-4a2c-ceb7-5484de1b0131"
      },
      "execution_count": 6,
      "outputs": [
        {
          "output_type": "stream",
          "name": "stdout",
          "text": [
            "A* Solution Found:\n",
            "\n",
            "Step 0: (3, 3, 'left')\n",
            "Step 1: (2, 2, 'right')\n",
            "Step 2: (3, 2, 'left')\n",
            "Step 3: (3, 0, 'right')\n",
            "Step 4: (3, 1, 'left')\n",
            "Step 5: (1, 1, 'right')\n",
            "Step 6: (2, 2, 'left')\n",
            "Step 7: (0, 2, 'right')\n",
            "Step 8: (0, 3, 'left')\n",
            "Step 9: (0, 1, 'right')\n",
            "Step 10: (0, 2, 'left')\n",
            "Step 11: (0, 0, 'right')\n"
          ]
        },
        {
          "output_type": "execute_result",
          "data": {
            "text/plain": [
              "[(3, 3, 'left'),\n",
              " (2, 2, 'right'),\n",
              " (3, 2, 'left'),\n",
              " (3, 0, 'right'),\n",
              " (3, 1, 'left'),\n",
              " (1, 1, 'right'),\n",
              " (2, 2, 'left'),\n",
              " (0, 2, 'right'),\n",
              " (0, 3, 'left'),\n",
              " (0, 1, 'right'),\n",
              " (0, 2, 'left'),\n",
              " (0, 0, 'right')]"
            ]
          },
          "metadata": {},
          "execution_count": 6
        }
      ]
    }
  ]
}