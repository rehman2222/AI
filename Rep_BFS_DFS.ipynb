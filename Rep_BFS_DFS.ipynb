{
  "nbformat": 4,
  "nbformat_minor": 0,
  "metadata": {
    "colab": {
      "provenance": [],
      "authorship_tag": "ABX9TyM8ltQiYm4jQ9NKN1YLh2t1",
      "include_colab_link": true
    },
    "kernelspec": {
      "name": "python3",
      "display_name": "Python 3"
    },
    "language_info": {
      "name": "python"
    }
  },
  "cells": [
    {
      "cell_type": "markdown",
      "metadata": {
        "id": "view-in-github",
        "colab_type": "text"
      },
      "source": [
        "<a href=\"https://colab.research.google.com/github/rehman2222/AI/blob/main/Rep_BFS_DFS.ipynb\" target=\"_parent\"><img src=\"https://colab.research.google.com/assets/colab-badge.svg\" alt=\"Open In Colab\"/></a>"
      ]
    },
    {
      "cell_type": "code",
      "execution_count": null,
      "metadata": {
        "id": "24qgfUrL9DVW"
      },
      "outputs": [],
      "source": []
    },
    {
      "cell_type": "code",
      "source": [
        "from collections import deque\n",
        "\n",
        "germany_cities = {\n",
        "    'Berlin': ['Leipzig', 'Hamburg'],\n",
        "    'Hamburg': ['Berlin', 'Hanover'],\n",
        "    'Hanover': ['Hamburg', 'Frankfurt'],\n",
        "    'Frankfurt': ['Hanover', 'Cologne', 'Munich'],\n",
        "    'Cologne': ['Frankfurt', 'Düsseldorf'],\n",
        "    'Düsseldorf': ['Cologne'],\n",
        "    'Munich': ['Frankfurt', 'Stuttgart'],\n",
        "    'Stuttgart': ['Munich', 'Nuremberg'],\n",
        "    'Nuremberg': ['Stuttgart', 'Leipzig'],\n",
        "    'Leipzig': ['Berlin', 'Nuremberg']\n",
        "}\n",
        "\n",
        "# BFS Implementation (shortest path)\n",
        "def bfs_shortest_path(graphs, initial_state, end):\n",
        "    queue = deque([[initial_state]])\n",
        "    visited = set()\n",
        "\n",
        "    while queue:\n",
        "        path = queue.popleft()\n",
        "        current_city = path[-1]\n",
        "\n",
        "        if current_city == end:\n",
        "            return path\n",
        "\n",
        "        if current_city not in visited:\n",
        "            visited.add(current_city)\n",
        "\n",
        "            for neighbour in graphs.get(current_city, []):\n",
        "                new_path = list(path)\n",
        "                new_path.append(neighbour)\n",
        "                queue.append(new_path)\n",
        "\n",
        "    return None\n",
        "\n",
        "\n",
        "# DFS Implementation (any path, not necessarily shortest)\n",
        "def dfs_path(graphs, initial_state, end, path=None, visited=None):\n",
        "    if path is None:\n",
        "        path = []\n",
        "    if visited is None:\n",
        "        visited = set()\n",
        "\n",
        "    path.append(initial_state)\n",
        "    visited.add(initial_state)\n",
        "\n",
        "    if initial_state == end:\n",
        "        return path\n",
        "\n",
        "    for neighbour in graphs.get(initial_state, []):\n",
        "        if neighbour not in visited:\n",
        "            result = dfs_path(graphs, neighbour, end, path.copy(), visited.copy())\n",
        "            if result:\n",
        "                return result\n",
        "\n",
        "    return None\n",
        "\n",
        "\n",
        "# Test Code\n",
        "initial_city = 'Berlin'\n",
        "end_city = 'Leipzig'\n",
        "\n",
        "bfs_result = bfs_shortest_path(germany_cities, initial_city, end_city)\n",
        "print(\"BFS:\", bfs_result)\n",
        "\n",
        "dfs_result = dfs_path(germany_cities, initial_city, end_city)\n",
        "print(\"DFS:\", dfs_result)\n"
      ],
      "metadata": {
        "colab": {
          "base_uri": "https://localhost:8080/"
        },
        "id": "CaYm0PAHAHcb",
        "outputId": "64804e8b-c111-4859-96fd-7b2f8bfca4d7"
      },
      "execution_count": 4,
      "outputs": [
        {
          "output_type": "stream",
          "name": "stdout",
          "text": [
            "BFS: ['Berlin', 'Leipzig']\n",
            "DFS: ['Berlin', 'Leipzig']\n"
          ]
        }
      ]
    }
  ]
}