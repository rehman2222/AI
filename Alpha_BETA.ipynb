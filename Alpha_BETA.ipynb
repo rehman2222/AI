{
  "nbformat": 4,
  "nbformat_minor": 0,
  "metadata": {
    "colab": {
      "provenance": [],
      "authorship_tag": "ABX9TyOOPRI660JYewoNuhG09o43",
      "include_colab_link": true
    },
    "kernelspec": {
      "name": "python3",
      "display_name": "Python 3"
    },
    "language_info": {
      "name": "python"
    }
  },
  "cells": [
    {
      "cell_type": "markdown",
      "metadata": {
        "id": "view-in-github",
        "colab_type": "text"
      },
      "source": [
        "<a href=\"https://colab.research.google.com/github/rehman2222/AI/blob/main/Alpha_BETA.ipynb\" target=\"_parent\"><img src=\"https://colab.research.google.com/assets/colab-badge.svg\" alt=\"Open In Colab\"/></a>"
      ]
    },
    {
      "cell_type": "code",
      "execution_count": null,
      "metadata": {
        "colab": {
          "base_uri": "https://localhost:8080/"
        },
        "id": "Lt5OCn5qaexi",
        "outputId": "a34b59c3-cd43-4ed7-d23d-dda823a318e3"
      },
      "outputs": [
        {
          "output_type": "stream",
          "name": "stdout",
          "text": [
            "The optimal value is: 5\n"
          ]
        }
      ],
      "source": [
        "max_val, min_val = 1000, -1000\n",
        "\n",
        "# Define our own functions\n",
        "def MAX(a, b):\n",
        "    if a > b:\n",
        "        return a\n",
        "    else:\n",
        "        return b\n",
        "\n",
        "def MIN(a, b):\n",
        "    if a < b:\n",
        "        return a\n",
        "    else:\n",
        "        return b\n",
        "\n",
        "\n",
        "def minmax(depth, nodeindex, maximizingplayer, values, alpha, beta):\n",
        "\n",
        "    if depth == 3:\n",
        "        return values[nodeindex]\n",
        "\n",
        "\n",
        "    if maximizingplayer:\n",
        "        best = min_val\n",
        "        for i in range(0, 2):\n",
        "            val = minmax(depth + 1, nodeindex * 2 + i, False, values, alpha, beta)\n",
        "            best = MAX(best, val)\n",
        "            alpha = MAX(alpha, best)\n",
        "\n",
        "            if beta <= alpha:\n",
        "                break\n",
        "        return best\n",
        "\n",
        "    else:\n",
        "        best = max_val\n",
        "        for i in range(0, 2):\n",
        "            val = minmax(depth + 1, nodeindex * 2 + i, True, values, alpha, beta)\n",
        "            best = MIN(best, val)\n",
        "            beta = MIN(beta, best)\n",
        "\n",
        "            if beta <= alpha:\n",
        "                break\n",
        "        return best\n",
        "\n",
        "\n",
        "if __name__ == \"__main__\":\n",
        "    values = [3, 5, 6, 9, 1, 2, 0, -1]\n",
        "    print(\"The optimal value is:\", minmax(0, 0, True, values, min_val, max_val))\n"
      ]
    }
  ]
}