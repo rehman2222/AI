{
  "nbformat": 4,
  "nbformat_minor": 0,
  "metadata": {
    "colab": {
      "provenance": [],
      "toc_visible": true
    },
    "kernelspec": {
      "name": "python3",
      "display_name": "Python 3"
    },
    "language_info": {
      "name": "python"
    }
  },
  "cells": [
    {
      "cell_type": "code",
      "execution_count": 7,
      "metadata": {
        "colab": {
          "base_uri": "https://localhost:8080/"
        },
        "id": "lxKgk3xN25t8",
        "outputId": "f21785d1-fdca-4a72-eae6-aadedc8ccc39"
      },
      "outputs": [
        {
          "output_type": "stream",
          "name": "stdout",
          "text": [
            "Requirement already satisfied: numpy in /usr/local/lib/python3.12/dist-packages (2.0.2)\n"
          ]
        }
      ],
      "source": [
        "!pip install numpy\n"
      ]
    },
    {
      "cell_type": "markdown",
      "source": [
        "#  **Task 1: Lists**\n",
        "\n",
        "\n"
      ],
      "metadata": {
        "id": "ImhfJYGg5fLF"
      }
    },
    {
      "cell_type": "code",
      "source": [
        "#Create a list of 10 Integers?\n",
        "numbers = [1,2,3,4,5,6,7,8,9,10]\n",
        "print('List of Ten Integers is', numbers)\n",
        "\n",
        "#Find sum,max,min\n",
        "print('Sum',sum(numbers))\n",
        "print('MAX',max(numbers))\n",
        "print('MIN',min(numbers))\n",
        "\n",
        "#Add and Remove\n",
        "numbers.append(20)\n",
        "numbers.remove(2)\n",
        "print('Updated List',numbers)\n",
        "\n",
        "#Acending and Decending Order\n",
        "print('Acending',sorted(numbers))\n",
        "print('Decending',sorted(numbers, reverse =True))\n"
      ],
      "metadata": {
        "colab": {
          "base_uri": "https://localhost:8080/"
        },
        "id": "GytTr6jJBPf5",
        "outputId": "969ef6e5-f3d2-43f7-e74f-5f070301bb82"
      },
      "execution_count": 9,
      "outputs": [
        {
          "output_type": "stream",
          "name": "stdout",
          "text": [
            "List of Ten Integers is [1, 2, 3, 4, 5, 6, 7, 8, 9, 10]\n",
            "Sum 55\n",
            "MAX 10\n",
            "MIN 1\n",
            "Updated List [1, 3, 4, 5, 6, 7, 8, 9, 10, 20]\n",
            "Acending [1, 3, 4, 5, 6, 7, 8, 9, 10, 20]\n",
            "Decending [20, 10, 9, 8, 7, 6, 5, 4, 3, 1]\n"
          ]
        }
      ]
    },
    {
      "cell_type": "markdown",
      "source": [
        "# **Task 2: Tuples**\n"
      ],
      "metadata": {
        "id": "FOT6mz0T5fVv"
      }
    },
    {
      "cell_type": "code",
      "source": [
        "# Create a tuple of 5 Strings\n",
        "fruits = ('apple','Banana','cherry','mango','grape')\n",
        "print('Second element', fruits[1])\n",
        "print('Last one', fruits[-1])\n",
        "\n",
        "# convert tuple into list\n",
        "fruits_list = list(fruits)\n",
        "fruits_list[2] = 'orange'\n",
        "print('Modified', fruits_list)\n"
      ],
      "metadata": {
        "colab": {
          "base_uri": "https://localhost:8080/"
        },
        "id": "EqQJLbiVFXnN",
        "outputId": "47beae9c-8884-4190-aa7c-7228b2b4cd58"
      },
      "execution_count": 14,
      "outputs": [
        {
          "output_type": "stream",
          "name": "stdout",
          "text": [
            "Second element Banana\n",
            "Last one grape\n",
            "Modified ['apple', 'Banana', 'orange', 'mango', 'grape']\n"
          ]
        }
      ]
    },
    {
      "cell_type": "markdown",
      "source": [
        "# **Task 3: Sets**\n"
      ],
      "metadata": {
        "id": "irIRPRcC5feb"
      }
    },
    {
      "cell_type": "code",
      "source": [
        "#two set with unique elements\n",
        "\n",
        "set_a = {1,2,3,4,5}\n",
        "set_b = {4,5,6,7,8}\n",
        "\n",
        "# uniion and intersection\n",
        "\n",
        "print('union', set_a | set_b)\n",
        "print('Intersection', set_a & set_b)\n",
        "print('Differnce', set_a - set_b)\n"
      ],
      "metadata": {
        "colab": {
          "base_uri": "https://localhost:8080/"
        },
        "id": "MkXnn-3QIaJb",
        "outputId": "ae15dbd9-ffa7-43a2-fcaa-6ba22fb6e10c"
      },
      "execution_count": 15,
      "outputs": [
        {
          "output_type": "stream",
          "name": "stdout",
          "text": [
            "union {1, 2, 3, 4, 5, 6, 7, 8}\n",
            "Intersection {4, 5}\n",
            "Differnce {1, 2, 3}\n"
          ]
        }
      ]
    },
    {
      "cell_type": "markdown",
      "source": [
        "# **Task 4: Dictionaries**\n"
      ],
      "metadata": {
        "id": "6GlCM5dN5foN"
      }
    },
    {
      "cell_type": "code",
      "source": [
        "# creta 5 unique Keys\n",
        "students = {'Ali': 85,'Salman':90,'Rehman':30,'Yawar':40}\n",
        "\n",
        "print('Keys', students.keys())\n",
        "print('Values', students.values())\n",
        "\n"
      ],
      "metadata": {
        "colab": {
          "base_uri": "https://localhost:8080/"
        },
        "id": "aXNuliGIJG4d",
        "outputId": "43b8f9d5-7559-4c30-9f1b-4bd25b06615f"
      },
      "execution_count": 16,
      "outputs": [
        {
          "output_type": "stream",
          "name": "stdout",
          "text": [
            "Keys dict_keys(['Ali', 'Salman', 'Rehman', 'Yawar'])\n",
            "Values dict_values([85, 90, 30, 40])\n"
          ]
        }
      ]
    },
    {
      "cell_type": "markdown",
      "source": [
        "# **Task 5: Numpay**"
      ],
      "metadata": {
        "id": "IAJIL6yn5fzL"
      }
    },
    {
      "cell_type": "markdown",
      "source": [
        "# **Task 6: Matplotlib**"
      ],
      "metadata": {
        "id": "kwKR1m_g6Bvk"
      }
    }
  ]
}